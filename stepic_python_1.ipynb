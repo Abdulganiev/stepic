{
 "cells": [
  {
   "cell_type": "markdown",
   "id": "5f0b852f",
   "metadata": {
    "toc": true
   },
   "source": [
    "<h1>Table of Contents<span class=\"tocSkip\"></span></h1>\n",
    "<div class=\"toc\"><ul class=\"toc-item\"></ul></div>"
   ]
  },
  {
   "cell_type": "code",
   "execution_count": 1,
   "id": "22dc4ed8",
   "metadata": {},
   "outputs": [
    {
     "name": "stdout",
     "output_type": "stream",
     "text": [
      "12345554321\n"
     ]
    }
   ],
   "source": [
    "print(11111*1111111)"
   ]
  },
  {
   "cell_type": "code",
   "execution_count": 2,
   "id": "59e94124",
   "metadata": {},
   "outputs": [
    {
     "ename": "ZeroDivisionError",
     "evalue": "division by zero",
     "output_type": "error",
     "traceback": [
      "\u001b[1;31m---------------------------------------------------------------------------\u001b[0m",
      "\u001b[1;31mZeroDivisionError\u001b[0m                         Traceback (most recent call last)",
      "\u001b[1;32m<ipython-input-2-797d16325b6c>\u001b[0m in \u001b[0;36m<module>\u001b[1;34m\u001b[0m\n\u001b[1;32m----> 1\u001b[1;33m \u001b[0mprint\u001b[0m\u001b[1;33m(\u001b[0m\u001b[1;36m42\u001b[0m \u001b[1;33m/\u001b[0m \u001b[1;33m(\u001b[0m\u001b[1;36m4\u001b[0m \u001b[1;33m+\u001b[0m \u001b[1;36m2\u001b[0m \u001b[1;33m*\u001b[0m \u001b[1;33m(\u001b[0m\u001b[1;33m-\u001b[0m\u001b[1;36m2\u001b[0m\u001b[1;33m)\u001b[0m\u001b[1;33m)\u001b[0m\u001b[1;33m)\u001b[0m\u001b[1;33m\u001b[0m\u001b[1;33m\u001b[0m\u001b[0m\n\u001b[0m",
      "\u001b[1;31mZeroDivisionError\u001b[0m: division by zero"
     ]
    }
   ],
   "source": [
    "print(42 / (4 + 2 * (-2)))"
   ]
  },
  {
   "cell_type": "code",
   "execution_count": 4,
   "id": "efd1ede0",
   "metadata": {},
   "outputs": [
    {
     "name": "stdout",
     "output_type": "stream",
     "text": [
      "18064773765607550801425251468864907833685590016\n"
     ]
    }
   ],
   "source": [
    "print(2014**14)"
   ]
  },
  {
   "cell_type": "code",
   "execution_count": 11,
   "id": "3875f1d5",
   "metadata": {},
   "outputs": [
    {
     "name": "stdout",
     "output_type": "stream",
     "text": [
      "1234.5 0.0012345 1.806477376560755e+46 2.3333333333333335 2\n"
     ]
    }
   ],
   "source": [
    "print(1.2345e3, 1.2345e-3, 2014.0**14, 7/3, 7//3)"
   ]
  },
  {
   "cell_type": "code",
   "execution_count": 12,
   "id": "ae06b0ce",
   "metadata": {},
   "outputs": [
    {
     "name": "stdout",
     "output_type": "stream",
     "text": [
      "89\n"
     ]
    }
   ],
   "source": [
    "print(9**19 - int(float(9**19)))"
   ]
  },
  {
   "cell_type": "markdown",
   "id": "3ea6cf95",
   "metadata": {},
   "source": [
    "Тимофей обычно спит ночью XX часов и устраивает себе днем тихий час на YY минут. Определите, сколько всего минут Тимофей спит в сутки."
   ]
  },
  {
   "cell_type": "code",
   "execution_count": null,
   "id": "f07b7980",
   "metadata": {},
   "outputs": [],
   "source": [
    "print(int(input()) * 60 + int(input()))"
   ]
  },
  {
   "cell_type": "markdown",
   "id": "b1243e95",
   "metadata": {},
   "source": [
    "Коля каждый день ложится спать ровно в полночь и недавно узнал, что оптимальное время для его сна составляет XX минут. Коля хочет поставить себе будильник так, чтобы он прозвенел ровно через XX минут после полуночи, однако для этого необходимо указать время сигнала в формате часы, минуты. Помогите Коле определить, на какое время завести будильник.\n",
    "\n",
    "Часы и минуты в выводе программы должны располагаться на разных строках"
   ]
  },
  {
   "cell_type": "code",
   "execution_count": 15,
   "id": "427f4c28",
   "metadata": {},
   "outputs": [
    {
     "name": "stdout",
     "output_type": "stream",
     "text": [
      "200\n",
      "3\n",
      "20\n"
     ]
    }
   ],
   "source": [
    "h = int(input())\n",
    "print(h // 60)\n",
    "print(h % 60)"
   ]
  },
  {
   "cell_type": "markdown",
   "id": "c4ad9c28",
   "metadata": {},
   "source": [
    "Катя узнала, что ей для сна надо XX минут. В отличие от Коли, Катя ложится спать после полуночи в HH часов и MM минут. Помогите Кате определить, на какое время ей поставить будильник, чтобы он прозвенел ровно через XX минут после того, как она ляжет спать.\n",
    "\n",
    "На стандартный ввод, каждое в своей строке, подаются значения XX, HH и MM. Гарантируется, что Катя должна проснуться в тот же день, что и заснуть. Программа должна выводить время, на которое нужно поставить будильник: в первой строке часы, во второй — минуты."
   ]
  },
  {
   "cell_type": "code",
   "execution_count": 16,
   "id": "8af3781f",
   "metadata": {},
   "outputs": [
    {
     "name": "stdout",
     "output_type": "stream",
     "text": [
      "200\n",
      "1\n",
      "20\n",
      "4\n",
      "40\n"
     ]
    }
   ],
   "source": [
    "XX = int(input())\n",
    "HH = int(input())\n",
    "MM = int(input())\n",
    "itog = HH*60 + MM + XX\n",
    "print(itog // 60)\n",
    "print(itog % 60)"
   ]
  },
  {
   "cell_type": "markdown",
   "id": "41afcdcf",
   "metadata": {},
   "source": [
    "Из передачи “Здоровье” Аня узнала, что рекомендуется спать хотя бы AA часов в сутки, но пересыпать тоже вредно и не стоит спать более BB часов. Сейчас Аня спит HH часов в сутки. Если режим сна Ани удовлетворяет рекомендациям передачи “Здоровье”, выведите “Это нормально”. Если Аня спит менее AA часов, выведите “Недосып”, если же более BB часов, то выведите “Пересып”.\n",
    "\n",
    "Получаемое число AA всегда меньше либо равно BB.\n",
    "\n",
    "На вход программе в три строки подаются переменные в следующем порядке: AA, BB, HH."
   ]
  },
  {
   "cell_type": "code",
   "execution_count": 21,
   "id": "83564949",
   "metadata": {},
   "outputs": [
    {
     "name": "stdout",
     "output_type": "stream",
     "text": [
      "1\n",
      "4\n",
      "5\n",
      "Пересып\n"
     ]
    }
   ],
   "source": [
    "AA = int(input())\n",
    "BB = int(input())\n",
    "HH = int(input())\n",
    "if BB >= HH >= AA:\n",
    "    print('Это нормально')\n",
    "elif HH < AA:\n",
    "    print('Недосып')\n",
    "else:\n",
    "    print('Пересып')"
   ]
  },
  {
   "cell_type": "markdown",
   "id": "21f40643",
   "metadata": {},
   "source": [
    "Требуется определить, является ли данный год високосным.\n",
    "\n",
    "Напомним, что високосными годами считаются те годы, порядковый номер которых либо кратен 4, но при этом не кратен 100, либо кратен 400 (например, 2000-й год являлся високосным, а 2100-й будет невисокосным годом)."
   ]
  },
  {
   "cell_type": "code",
   "execution_count": 23,
   "id": "d253ac92",
   "metadata": {},
   "outputs": [
    {
     "name": "stdout",
     "output_type": "stream",
     "text": [
      "2000\n",
      "Високосный\n"
     ]
    }
   ],
   "source": [
    "n = int(input())\n",
    "\n",
    "if n % 400 == 0:\n",
    "    print('Високосный')\n",
    "elif (n % 4 == 0) and (n % 100) != 0:\n",
    "    print('Високосный')\n",
    "else:\n",
    "    print('Обычный')"
   ]
  },
  {
   "cell_type": "code",
   "execution_count": 24,
   "id": "070aa5d4",
   "metadata": {},
   "outputs": [
    {
     "name": "stdout",
     "output_type": "stream",
     "text": [
      "False\n",
      "True\n",
      "False\n",
      "False\n"
     ]
    }
   ],
   "source": [
    "print(\"239\" < \"30\" and 239 < 30)\n",
    "print(\"239\" < \"30\" and 239 > 30)\n",
    "print(\"239\" > \"30\" and 239 < 30)\n",
    "print(\"239\" > \"30\" and 239 > 30)"
   ]
  },
  {
   "cell_type": "code",
   "execution_count": 25,
   "id": "a1c956af",
   "metadata": {},
   "outputs": [
    {
     "name": "stdout",
     "output_type": "stream",
     "text": [
      "3\n",
      "4\n",
      "5\n"
     ]
    }
   ],
   "source": [
    "a = int(input())\n",
    "b = int(input())\n",
    "c = int(input())\n",
    "p = (a + b + c) / 2\n",
    "S = (p * (p - a) * (p - b) * (p - c)) ** (0.5)\n",
    "print(S)"
   ]
  },
  {
   "cell_type": "markdown",
   "id": "d93d361d",
   "metadata": {},
   "source": [
    "Напишите программу, принимающую на вход целое число, которая выводит True, если переданное значение попадает в интервал"
   ]
  },
  {
   "cell_type": "code",
   "execution_count": null,
   "id": "1220e5e1",
   "metadata": {},
   "outputs": [],
   "source": [
    "a = int(input())\n",
    "if (-15 < a <= 12) or (14 < a < 17) or (19 <= a):\n",
    "    print ('True')\n",
    "else:\n",
    "    print ('False')"
   ]
  },
  {
   "cell_type": "code",
   "execution_count": 37,
   "id": "2fe86681",
   "metadata": {},
   "outputs": [
    {
     "name": "stdout",
     "output_type": "stream",
     "text": [
      "7\n",
      "7\n"
     ]
    }
   ],
   "source": []
  },
  {
   "cell_type": "markdown",
   "id": "b678ae87",
   "metadata": {},
   "source": [
    "Напишите простой калькулятор, который считывает с пользовательского ввода три строки: первое число, второе число и операцию, после чего применяет операцию к введённым числам (\"первое число\" \"операция\" \"второе число\") и выводит результат на экран.\n",
    "\n",
    "Поддерживаемые операции: +, -, /, *, mod, pow, div, где\n",
    "mod — это взятие остатка от деления,\n",
    "pow — возведение в степень,\n",
    "div — целочисленное деление."
   ]
  },
  {
   "cell_type": "code",
   "execution_count": 40,
   "id": "6b5a08b5",
   "metadata": {},
   "outputs": [
    {
     "name": "stdout",
     "output_type": "stream",
     "text": [
      "5\n",
      "0\n",
      "mod\n"
     ]
    },
    {
     "ename": "ZeroDivisionError",
     "evalue": "float modulo",
     "output_type": "error",
     "traceback": [
      "\u001b[1;31m---------------------------------------------------------------------------\u001b[0m",
      "\u001b[1;31mZeroDivisionError\u001b[0m                         Traceback (most recent call last)",
      "\u001b[1;32m<ipython-input-40-7eff028023a8>\u001b[0m in \u001b[0;36m<module>\u001b[1;34m\u001b[0m\n\u001b[0;32m     13\u001b[0m     \u001b[0mprint\u001b[0m\u001b[1;33m(\u001b[0m\u001b[0ma\u001b[0m \u001b[1;33m*\u001b[0m \u001b[0mb\u001b[0m\u001b[1;33m)\u001b[0m\u001b[1;33m\u001b[0m\u001b[1;33m\u001b[0m\u001b[0m\n\u001b[0;32m     14\u001b[0m \u001b[1;32melif\u001b[0m \u001b[0mznak\u001b[0m \u001b[1;33m==\u001b[0m \u001b[1;34m'mod'\u001b[0m\u001b[1;33m:\u001b[0m\u001b[1;33m\u001b[0m\u001b[1;33m\u001b[0m\u001b[0m\n\u001b[1;32m---> 15\u001b[1;33m     \u001b[0mprint\u001b[0m\u001b[1;33m(\u001b[0m\u001b[0ma\u001b[0m \u001b[1;33m%\u001b[0m \u001b[0mb\u001b[0m\u001b[1;33m)\u001b[0m\u001b[1;33m\u001b[0m\u001b[1;33m\u001b[0m\u001b[0m\n\u001b[0m\u001b[0;32m     16\u001b[0m \u001b[1;32melif\u001b[0m \u001b[0mznak\u001b[0m \u001b[1;33m==\u001b[0m \u001b[1;34m'pow'\u001b[0m\u001b[1;33m:\u001b[0m\u001b[1;33m\u001b[0m\u001b[1;33m\u001b[0m\u001b[0m\n\u001b[0;32m     17\u001b[0m     \u001b[0mprint\u001b[0m\u001b[1;33m(\u001b[0m\u001b[0ma\u001b[0m\u001b[1;33m**\u001b[0m\u001b[0mb\u001b[0m\u001b[1;33m)\u001b[0m\u001b[1;33m\u001b[0m\u001b[1;33m\u001b[0m\u001b[0m\n",
      "\u001b[1;31mZeroDivisionError\u001b[0m: float modulo"
     ]
    }
   ],
   "source": [
    "a = float(input())\n",
    "b = float(input())\n",
    "znak = input()\n",
    "if znak == '+':\n",
    "    print(a + b)\n",
    "elif znak == '-':\n",
    "    print(a - b)\n",
    "elif (znak == '/' or znak == 'mod' or  znak == 'div') and b == 0:\n",
    "    print('Деление на 0!')\n",
    "elif znak == '/':\n",
    "    print(a / b)\n",
    "elif znak == '*':\n",
    "    print(a * b)\n",
    "elif znak == 'mod':\n",
    "    print(a % b)\n",
    "elif znak == 'pow':\n",
    "    print(a**b)\n",
    "elif znak == 'div':\n",
    "    print(a // b)"
   ]
  },
  {
   "cell_type": "markdown",
   "id": "705706ab",
   "metadata": {},
   "source": [
    "Жители страны Малевии часто экспериментируют с планировкой комнат. Комнаты бывают треугольные, прямоугольные и круглые. Чтобы быстро вычислять жилплощадь, требуется написать программу, на вход которой подаётся тип фигуры комнаты и соответствующие параметры, которая бы выводила площадь получившейся комнаты.\n",
    "Для числа π в стране Малевии используют значение 3.14."
   ]
  },
  {
   "cell_type": "code",
   "execution_count": 63,
   "id": "a2b2075c",
   "metadata": {},
   "outputs": [
    {
     "name": "stdout",
     "output_type": "stream",
     "text": [
      "круг\n",
      "1.5\n",
      "7.065\n"
     ]
    }
   ],
   "source": [
    "pi = 3.14\n",
    "figure = input()\n",
    "if figure == 'треугольник':\n",
    "    a = float(input())\n",
    "    b = float(input())\n",
    "    c = float(input())\n",
    "    p = (a + b + c) / 2\n",
    "    S = (p * (p - a) * (p - b) * (p - c)) ** (0.5)\n",
    "elif figure == 'прямоугольник':\n",
    "    a = float(input())\n",
    "    b = float(input())\n",
    "    S = a * b\n",
    "elif figure == 'круг':\n",
    "    r = float(input())\n",
    "    S = pi * r**2\n",
    "print(S)"
   ]
  },
  {
   "cell_type": "markdown",
   "id": "d5d64856",
   "metadata": {},
   "source": [
    "Напишите программу, которая получает на вход три целых числа, по одному числу в строке, и выводит на консоль в три строки сначала максимальное, потом минимальное, после чего оставшееся число."
   ]
  },
  {
   "cell_type": "code",
   "execution_count": 66,
   "id": "21f5499e",
   "metadata": {},
   "outputs": [
    {
     "name": "stdout",
     "output_type": "stream",
     "text": [
      "8\n",
      "4\n",
      "12\n",
      "12\n",
      "4\n",
      "8\n"
     ]
    }
   ],
   "source": [
    "a = int(input())\n",
    "b = int(input())\n",
    "c = int(input())\n",
    "print(max(a, b, c))\n",
    "print(min(a, b, c))\n",
    "print((a + b + c) - max(a, b, c) - min(a, b, c))"
   ]
  },
  {
   "cell_type": "markdown",
   "id": "2fce20b9",
   "metadata": {},
   "source": [
    "В институте биоинформатики по офису передвигается робот. Недавно студенты из группы программистов написали для него программу, по которой робот, когда заходит в комнату, считает количество программистов в ней и произносит его вслух: \"n программистов\".\n",
    "\n",
    "Для того, чтобы это звучало правильно, для каждого nn нужно использовать верное окончание слова.\n",
    "\n",
    "Напишите программу, считывающую с пользовательского ввода целое число nn (неотрицательное), выводящее это число в консоль вместе с правильным образом изменённым словом \"программист\", для того, чтобы робот мог нормально общаться с людьми, например: 1 программист, 2 программиста, 5 программистов.\n",
    "\n",
    "В комнате может быть очень много программистов. Проверьте, что ваша программа правильно обработает все случаи, как минимум до 1000 человек."
   ]
  },
  {
   "cell_type": "code",
   "execution_count": 80,
   "id": "8c5fde87",
   "metadata": {},
   "outputs": [
    {
     "name": "stdout",
     "output_type": "stream",
     "text": [
      "5\n",
      "5 программистов\n"
     ]
    }
   ],
   "source": [
    "# на 1 кроме 11 то программист\n",
    "# на 2, 3, 4 , кроме 12, 13, 14, то програмиста\n",
    "# остальные -a програмистов\n",
    "a = int(input())\n",
    "if a % 10 == 1 and a % 100 != 11:\n",
    "    print(a, 'программист')\n",
    "elif a % 10 in (2 , 3, 4) and a % 100 not in (12, 13, 14):\n",
    "    print(a, 'программиста')\n",
    "else:\n",
    "    print(a, 'программистов')"
   ]
  },
  {
   "cell_type": "markdown",
   "id": "e44fe011",
   "metadata": {},
   "source": [
    "Паша очень любит кататься на общественном транспорте, а получая билет, сразу проверяет, счастливый ли ему попался. Билет считается счастливым, если сумма первых трех цифр совпадает с суммой последних трех цифр номера билета.\n",
    "\n",
    "Однако Паша очень плохо считает в уме, поэтому попросил вас написать программу, которая проверит равенство сумм и выведет \"Счастливый\", если суммы совпадают, и \"Обычный\", если суммы различны.\n",
    "\n",
    "На вход программе подаётся строка из шести цифр.\n",
    "\n",
    "Выводить нужно только слово \"Счастливый\" или \"Обычный\", с большой буквы."
   ]
  },
  {
   "cell_type": "code",
   "execution_count": 95,
   "id": "872537d9",
   "metadata": {},
   "outputs": [
    {
     "name": "stdout",
     "output_type": "stream",
     "text": [
      "123321\n"
     ]
    }
   ],
   "source": [
    "a = input()\n",
    "if sum([int(i) for i in a[:3]]) == sum([int(i) for i in a[3:]]):\n",
    "    print('Счастливый')\n",
    "else:\n",
    "    print('Обычный')"
   ]
  },
  {
   "cell_type": "code",
   "execution_count": 98,
   "id": "ac3d8e81",
   "metadata": {},
   "outputs": [
    {
     "name": "stdout",
     "output_type": "stream",
     "text": [
      "13\n"
     ]
    }
   ],
   "source": [
    "i = 0\n",
    "while i <= 10:\n",
    "    i = i + 1\n",
    "    if i > 7:\n",
    "        i = i + 2\n",
    "print(i)"
   ]
  },
  {
   "cell_type": "code",
   "execution_count": 99,
   "id": "08eea33e",
   "metadata": {},
   "outputs": [
    {
     "name": "stdout",
     "output_type": "stream",
     "text": [
      "9\n"
     ]
    }
   ],
   "source": [
    "i = 0\n",
    "x = 0\n",
    "while i <= 10:\n",
    "    x += 1\n",
    "    i = i + 1\n",
    "    if i > 7:\n",
    "        i = i + 2\n",
    "print(x)"
   ]
  },
  {
   "cell_type": "code",
   "execution_count": 103,
   "id": "0bf4f76b",
   "metadata": {},
   "outputs": [
    {
     "name": "stdout",
     "output_type": "stream",
     "text": [
      "*\n",
      "**\n",
      "*\n",
      "*\n",
      "**\n",
      "*\n",
      "***\n",
      "*\n",
      "**\n",
      "***\n",
      "17\n"
     ]
    }
   ],
   "source": [
    "i = 0\n",
    "x = 0\n",
    "while i < 5:\n",
    "    print('*')\n",
    "    x += 1\n",
    "    if i % 2 == 0:\n",
    "        print('**')\n",
    "        x += 2\n",
    "    if i > 2:\n",
    "        print('***')\n",
    "        x += 3\n",
    "    i = i + 1\n",
    "print(x)"
   ]
  },
  {
   "cell_type": "markdown",
   "id": "57a3d55b",
   "metadata": {},
   "source": [
    "Напишите программу, которая считывает со стандартного ввода целые числа, по одному числу в строке, и после первого введенного нуля выводит сумму полученных на вход чисел."
   ]
  },
  {
   "cell_type": "code",
   "execution_count": 107,
   "id": "21d6e802",
   "metadata": {},
   "outputs": [
    {
     "name": "stdout",
     "output_type": "stream",
     "text": [
      "5\n",
      "-3\n",
      "8\n",
      "4\n",
      "0\n",
      "14\n"
     ]
    }
   ],
   "source": [
    "n = -1\n",
    "s = 0\n",
    "while n != 0:\n",
    "    n = int(input())\n",
    "    s += n\n",
    "print(s)"
   ]
  },
  {
   "cell_type": "markdown",
   "id": "df98d145",
   "metadata": {},
   "source": [
    "В Институте биоинформатики между информатиками и биологами устраивается соревнование. Победителям соревнования достанется большой и вкусный пирог. В команде биологов aa человек, а в команде информатиков — bb человек.\n",
    "\n",
    "Нужно заранее разрезать пирог таким образом, чтобы можно было раздать кусочки пирога любой команде, выигравшей соревнование, при этом каждому участнику этой команды должно достаться одинаковое число кусочков пирога. И так как не хочется резать пирог на слишком мелкие кусочки, нужно найти минимальное подходящее число.\n",
    "\n",
    "Напишите программу, которая помогает найти это число.\n",
    "Программа должна считывать размеры команд (два положительных целых числа aa и bb, каждое число вводится на отдельной строке) и выводить наименьшее число dd, которое делится на оба этих числа без остатка."
   ]
  },
  {
   "cell_type": "code",
   "execution_count": 140,
   "id": "ba6c36d9",
   "metadata": {},
   "outputs": [
    {
     "name": "stdout",
     "output_type": "stream",
     "text": [
      "11\n",
      "13\n",
      "143\n"
     ]
    }
   ],
   "source": [
    "aa = int(input())\n",
    "bb = int(input())\n",
    "dd = 1\n",
    "while dd % aa != 0 or dd % bb != 0:\n",
    "    dd += 1\n",
    "print(dd)"
   ]
  },
  {
   "cell_type": "code",
   "execution_count": 141,
   "id": "2d9fd914",
   "metadata": {},
   "outputs": [
    {
     "name": "stdout",
     "output_type": "stream",
     "text": [
      "7\n"
     ]
    }
   ],
   "source": [
    "i = 0\n",
    "s = 0\n",
    "while i < 10:\n",
    "    i = i + 1\n",
    "    s = s + i\n",
    "    if s > 15:\n",
    "        break\n",
    "    i = i + 1\n",
    "print(i)"
   ]
  },
  {
   "cell_type": "code",
   "execution_count": 142,
   "id": "6f4f0f3a",
   "metadata": {},
   "outputs": [
    {
     "name": "stdout",
     "output_type": "stream",
     "text": [
      "10\n"
     ]
    }
   ],
   "source": [
    "i = 0\n",
    "s = 0\n",
    "while i < 10:\n",
    "    i = i + 1\n",
    "    s = s + i\n",
    "    if s > 15:\n",
    "        continue\n",
    "    i = i + 1\n",
    "print(i)"
   ]
  },
  {
   "cell_type": "markdown",
   "id": "be1807fc",
   "metadata": {},
   "source": [
    "Напишите программу, которая считывает целые числа с консоли по одному числу в строке.\n",
    "\n",
    "Для каждого введённого числа проверить:\n",
    "если число меньше 10, то пропускаем это число;\n",
    "если число больше 100, то прекращаем считывать числа;\n",
    "в остальных случаях вывести это число обратно на консоль в отдельной строке."
   ]
  },
  {
   "cell_type": "code",
   "execution_count": 150,
   "id": "b0f35dcc",
   "metadata": {},
   "outputs": [
    {
     "name": "stdout",
     "output_type": "stream",
     "text": [
      "102\n",
      "\n"
     ]
    }
   ],
   "source": [
    "n = int(input())\n",
    "while n <= 100:\n",
    "    if n >= 10:\n",
    "        print(n)\n",
    "    n = int(input())"
   ]
  },
  {
   "cell_type": "markdown",
   "id": "229cecca",
   "metadata": {},
   "source": [
    "Когда Павел учился в школе, он запоминал таблицу умножения прямоугольными блоками. Для тренировок ему бы очень пригодилась программа, которая показывала бы блок таблицы умножения.\n",
    "\n",
    "Напишите программу, на вход которой даются четыре числа aa, bb, cc и dd, каждое в своей строке. Программа должна вывести фрагмент таблицы умножения для всех чисел отрезка [a; b][a;b] на все числа отрезка [c;d][c;d].\n",
    "\n",
    "Числа aa, bb, cc и dd являются натуральными и не превосходят 10, a \\le ba≤b, c \\le dc≤d.\n",
    "\n",
    "Следуйте формату вывода из примера, для разделения элементов внутри строки используйте '\\t' — символ табуляции. Заметьте, что левым столбцом и верхней строкой выводятся сами числа из заданных отрезков — заголовочные столбец и строка таблицы."
   ]
  },
  {
   "cell_type": "code",
   "execution_count": 202,
   "id": "1c9e9d95",
   "metadata": {},
   "outputs": [
    {
     "name": "stdout",
     "output_type": "stream",
     "text": [
      "1\n",
      "9\n",
      "1\n",
      "9\n"
     ]
    }
   ],
   "source": [
    "a = int(input())\n",
    "b = int(input())\n",
    "c = int(input())\n",
    "d = int(input())\n",
    "print(end='\\t')\n",
    "for i in range(c, d+1):\n",
    "    print(i, end='\\t')\n",
    "print()\n",
    "for x in range(a, b+1):\n",
    "    print(x, end='\\t')\n",
    "    for i in range(c, d+1):\n",
    "        print(x * i, end='\\t')\n",
    "    print()"
   ]
  },
  {
   "cell_type": "markdown",
   "id": "7b0bad26",
   "metadata": {},
   "source": [
    "Напишите программу, которая считывает с клавиатуры два числа a и b, считает и выводит на консоль среднее арифметическое всех чисел из отрезка [a; b], которые кратны числу 3.\n",
    "\n",
    "В приведенном ниже примере среднее арифметическое считается для чисел на отрезке [-5; 12]. Всего чисел, делящихся на 3, на этом отрезке 6: -3, 0, 3, 6, 9, 12. Их среднее арифметическое равно 4.5\n",
    "\n",
    "На вход программе подаются интервалы, внутри которых всегда есть хотя бы одно число, которое делится на 3.﻿"
   ]
  },
  {
   "cell_type": "code",
   "execution_count": 206,
   "id": "c3315b3d",
   "metadata": {},
   "outputs": [
    {
     "name": "stdout",
     "output_type": "stream",
     "text": [
      "-5\n",
      "12\n"
     ]
    }
   ],
   "source": [
    "a = int(input())\n",
    "b = int(input())\n",
    "\n",
    "s = 0\n",
    "cnt = 0\n",
    "for i in range(a, b+1):\n",
    "    if i % 3 == 0:\n",
    "        s += i\n",
    "        cnt += 1\n",
    "print(s / cnt)"
   ]
  },
  {
   "cell_type": "markdown",
   "id": "7768e7b7",
   "metadata": {},
   "source": [
    "GC-состав является важной характеристикой геномных последовательностей и определяется как процентное соотношение суммы всех гуанинов и цитозинов к общему числу нуклеиновых оснований в геномной последовательности.\n",
    "\n",
    "Напишите программу, которая вычисляет процентное содержание символов G (гуанин) и C (цитозин) в введенной строке (программа не должна зависеть от регистра вводимых символов).\n",
    "\n",
    "Например, в строке \"acggtgttat\" процентное содержание символов G и C равно \\dfrac4{10} \\cdot 100 = 40.0 \n",
    "10\n",
    "4\n",
    "​\n",
    " ⋅100=40.0, где 4 -- это количество символов G и C,  а 10 -- это длина строки."
   ]
  },
  {
   "cell_type": "code",
   "execution_count": 223,
   "id": "d01f1797",
   "metadata": {},
   "outputs": [
    {
     "name": "stdout",
     "output_type": "stream",
     "text": [
      "acggtgttat\n"
     ]
    }
   ],
   "source": [
    "n = input()\n",
    "print(((n.upper().count('G') + n.upper().count('C')) / len(n)) * 100)"
   ]
  },
  {
   "cell_type": "code",
   "execution_count": 230,
   "id": "9e21c394",
   "metadata": {},
   "outputs": [
    {
     "name": "stdout",
     "output_type": "stream",
     "text": [
      "def abcdef defghijk kjihgfedcba ijk abcde kigec\n"
     ]
    }
   ],
   "source": [
    "s = 'abcdefghijk'\n",
    "print(s[3:6], s[:6], s[3:], s[::-1], s[-3:], s[:-6], s[-1:-10:-2])"
   ]
  },
  {
   "cell_type": "markdown",
   "id": "c0e8c26d",
   "metadata": {},
   "source": [
    "Узнав, что ДНК не является случайной строкой, только что поступившие в Институт биоинформатики студенты группы информатиков предложили использовать алгоритм сжатия, который сжимает повторяющиеся символы в строке.\n",
    "\n",
    "Кодирование осуществляется следующим образом:\n",
    "s = 'aaaabbсaa' преобразуется в 'a4b2с1a2', то есть группы одинаковых символов исходной строки заменяются на этот символ и количество его повторений в этой позиции строки.\n",
    "\n",
    "Напишите программу, которая считывает строку, кодирует её предложенным алгоритмом и выводит закодированную последовательность на стандартный вывод. Кодирование должно учитывать регистр символов."
   ]
  },
  {
   "cell_type": "code",
   "execution_count": 252,
   "id": "a39ab7eb",
   "metadata": {},
   "outputs": [
    {
     "name": "stdout",
     "output_type": "stream",
     "text": [
      "a\n",
      "a\n",
      "a\n",
      "\n",
      "b\n",
      "\n",
      "\n",
      "a\n"
     ]
    }
   ],
   "source": [
    "s = 'aaaabbсaa'\n",
    "s_kod = 1\n",
    "for i in range(1, len(s)):\n",
    "    s_uniq = ''\n",
    "    if s[i-1] == s[i]:\n",
    "        s_uniq += s[i]\n",
    "    print(s_uniq)"
   ]
  },
  {
   "cell_type": "code",
   "execution_count": 247,
   "id": "29c10444",
   "metadata": {},
   "outputs": [
    {
     "data": {
      "text/plain": [
       "'abс'"
      ]
     },
     "execution_count": 247,
     "metadata": {},
     "output_type": "execute_result"
    }
   ],
   "source": [
    "s_uniq"
   ]
  },
  {
   "cell_type": "code",
   "execution_count": 6,
   "id": "7d6a5eb5",
   "metadata": {},
   "outputs": [],
   "source": [
    "students = ['Ivan', 'Masha', 'Sasha']\n",
    "students += ['Olga']\n",
    "students += 'Olga'"
   ]
  },
  {
   "cell_type": "code",
   "execution_count": 4,
   "id": "385849e3",
   "metadata": {},
   "outputs": [],
   "source": [
    "students = ['Ivan', 'Masha', 'Sasha']\n",
    "students += ['Olga']"
   ]
  },
  {
   "cell_type": "code",
   "execution_count": 8,
   "id": "64992ebb",
   "metadata": {},
   "outputs": [
    {
     "data": {
      "text/plain": [
       "['Ivan', 'Masha', 'Sasha', 'Olga', 'O', 'l', 'g', 'a']"
      ]
     },
     "execution_count": 8,
     "metadata": {},
     "output_type": "execute_result"
    }
   ],
   "source": [
    "students"
   ]
  },
  {
   "cell_type": "markdown",
   "id": "f9af76c3",
   "metadata": {},
   "source": [
    "Напишите программу, на вход которой подается одна строка с целыми числами. Программа должна вывести сумму этих чисел."
   ]
  },
  {
   "cell_type": "code",
   "execution_count": null,
   "id": "3db12959",
   "metadata": {},
   "outputs": [],
   "source": [
    "s = [int(i) for i in input().split()]\n",
    "print(sum(s))"
   ]
  },
  {
   "cell_type": "markdown",
   "id": "3d8d66b6",
   "metadata": {},
   "source": [
    "Напишите программу, на вход которой подаётся список чисел одной строкой. Программа должна для каждого элемента этого списка вывести сумму двух его соседей. Для элементов списка, являющихся крайними, одним из соседей считается элемент, находящий на противоположном конце этого списка. Например, если на вход подаётся список \"1 3 5 6 10\", то на выход ожидается список \"13 6 9 15 7\" (без кавычек).\n",
    "\n",
    "Если на вход пришло только одно число, надо вывести его же."
   ]
  },
  {
   "cell_type": "code",
   "execution_count": 21,
   "id": "771348ed",
   "metadata": {},
   "outputs": [
    {
     "name": "stdout",
     "output_type": "stream",
     "text": [
      "1\n"
     ]
    }
   ],
   "source": [
    "n = '1 3 5 6 10'.split()\n",
    "n = '1'\n",
    "n_int = [int(i) for i in n]\n",
    "n_int = [int(i) for i in input().split()]\n",
    "for i in range(len(n_int)):\n",
    "    if len(n_int) == 1:\n",
    "        print(n_int[0])\n",
    "    elif i + 1 == len(n_int):\n",
    "        print(n_int[i-1] + n_int[0])\n",
    "    else:    \n",
    "        print(n_int[i-1] + n_int[i+1])"
   ]
  },
  {
   "cell_type": "code",
   "execution_count": 10,
   "id": "9b3a44b2",
   "metadata": {},
   "outputs": [
    {
     "data": {
      "text/plain": [
       "[1, 3, 5, 6, 10]"
      ]
     },
     "execution_count": 10,
     "metadata": {},
     "output_type": "execute_result"
    }
   ],
   "source": [
    "n_int"
   ]
  },
  {
   "cell_type": "markdown",
   "id": "46bdf56e",
   "metadata": {},
   "source": [
    "Напишите программу, которая принимает на вход список чисел в одной строке и выводит на экран в одну строку значения, которые встречаются в нём более одного раза.\n",
    "\n",
    "Для решения задачи может пригодиться метод sort списка.\n",
    "\n",
    "Выводимые числа не должны повторяться, порядок их вывода может быть произвольным."
   ]
  },
  {
   "cell_type": "code",
   "execution_count": 35,
   "id": "18287de6",
   "metadata": {},
   "outputs": [
    {
     "name": "stdout",
     "output_type": "stream",
     "text": [
      "1 1 1 1 1 2 2 2\n",
      "1 2\n"
     ]
    }
   ],
   "source": [
    "#n = [int(i) for i in '11 3 3 5 5 6 10'.split()]\n",
    "n = [int(i) for i in input().split()]\n",
    "n = sorted(n)\n",
    "n_new = []\n",
    "for i in range(1, len(n)):\n",
    "    if n[i] == n[i-1]:\n",
    "        n_new.append(n[i])\n",
    "n_new = set(n_new)\n",
    "print(*n_new)"
   ]
  },
  {
   "cell_type": "code",
   "execution_count": 37,
   "id": "511ec08b",
   "metadata": {},
   "outputs": [
    {
     "name": "stdout",
     "output_type": "stream",
     "text": [
      "1 1 1 1 1 2 2 2\n",
      "1 2\n"
     ]
    }
   ],
   "source": [
    "n = [int(i) for i in input().split()]\n",
    "n = sorted(n)\n",
    "n_new = []\n",
    "for i in range(1, len(n)):\n",
    "    if n[i] == n[i-1] and n[i] not in n_new:\n",
    "        n_new.append(n[i])\n",
    "print(*n_new)"
   ]
  },
  {
   "cell_type": "code",
   "execution_count": 38,
   "id": "9c43bdfa",
   "metadata": {},
   "outputs": [
    {
     "name": "stdout",
     "output_type": "stream",
     "text": [
      "1 1 1 1 1 2 2 2\n",
      "1 2 "
     ]
    }
   ],
   "source": [
    "ls = [int(i) for i in input().split()]\n",
    "for i in set(ls):\n",
    "    if ls.count(i) > 1:\n",
    "        print(i, end=' ')"
   ]
  },
  {
   "cell_type": "markdown",
   "id": "04dd30b2",
   "metadata": {},
   "source": [
    "Напишите программу, которая считывает с консоли числа (по одному в строке) до тех пор, пока сумма введённых чисел не будет равна 0 и сразу после этого выводит сумму квадратов всех считанных чисел.\n",
    "\n",
    "Гарантируется, что в какой-то момент сумма введённых чисел окажется равной 0, после этого считывание продолжать не нужно.\n",
    "\n",
    "В примере мы считываем числа 1, -3, 5, -6, -10, 13; в этот момент замечаем, что сумма этих чисел равна нулю и выводим сумму их квадратов, не обращая внимания на то, что остались ещё не прочитанные значения."
   ]
  },
  {
   "cell_type": "code",
   "execution_count": 40,
   "id": "30eb4340",
   "metadata": {},
   "outputs": [
    {
     "name": "stdout",
     "output_type": "stream",
     "text": [
      "1\n",
      "-3\n",
      "5\n",
      "-6\n",
      "-10\n",
      "13\n",
      "340\n"
     ]
    }
   ],
   "source": [
    "n = -1\n",
    "s = 0\n",
    "s2 = 0\n",
    "while n != 0:\n",
    "    n = int(input())\n",
    "    s += n\n",
    "    s2 += n**2\n",
    "    n = s\n",
    "print(s2)\n",
    "    "
   ]
  },
  {
   "cell_type": "markdown",
   "id": "1ebe1bee",
   "metadata": {},
   "source": [
    "Узнав, что ДНК не является случайной строкой, только что поступившие в Институт биоинформатики студенты группы информатиков предложили использовать алгоритм сжатия, который сжимает повторяющиеся символы в строке.\n",
    "\n",
    "Кодирование осуществляется следующим образом:\n",
    "s = 'aaaabbсaa' преобразуется в 'a4b2с1a2', то есть группы одинаковых символов исходной строки заменяются на этот символ и количество его повторений в этой позиции строки.\n",
    "\n",
    "Напишите программу, которая считывает строку, кодирует её предложенным алгоритмом и выводит закодированную последовательность на стандартный вывод. Кодирование должно учитывать регистр символов."
   ]
  },
  {
   "cell_type": "code",
   "execution_count": 81,
   "id": "753d2927",
   "metadata": {},
   "outputs": [],
   "source": []
  },
  {
   "cell_type": "code",
   "execution_count": 97,
   "id": "e3d80d20",
   "metadata": {},
   "outputs": [
    {
     "name": "stdout",
     "output_type": "stream",
     "text": [
      "aaaabbcaA\n",
      "a4b2c1a1A1\n"
     ]
    }
   ],
   "source": [
    "#s = 'abc'\n",
    "s = input()\n",
    "s_new = ''\n",
    "cnt = 1\n",
    "x = 0\n",
    "for i in range(1, len(s)):\n",
    "    if s[i] == s[i-1]:\n",
    "        cnt += 1\n",
    "    else:\n",
    "        s_new += s[i-1] + str(cnt)\n",
    "        cnt = 1\n",
    "    x += 1\n",
    "s_new += s[i] + str(cnt)\n",
    "print(s_new)\n"
   ]
  },
  {
   "cell_type": "markdown",
   "id": "b484acc5",
   "metadata": {},
   "source": [
    "Напишите программу, которая выводит часть последовательности 1 2 2 3 3 3 4 4 4 4 5 5 5 5 5 ... (число повторяется столько раз, чему равно). На вход программе передаётся неотрицательное целое число n — столько элементов последовательности должна отобразить программа. На выходе ожидается последовательность чисел, записанных через пробел в одну строку.\n",
    "\n",
    "Например, если n = 7, то программа должна вывести 1 2 2 3 3 3 4."
   ]
  },
  {
   "cell_type": "code",
   "execution_count": 164,
   "id": "0ad5b2cf",
   "metadata": {},
   "outputs": [
    {
     "name": "stdout",
     "output_type": "stream",
     "text": [
      "1 2 2 3 3 3 4 4 4 4 5\n"
     ]
    }
   ],
   "source": [
    "n = 11\n",
    "#n = int(input())\n",
    "n_int = []\n",
    "cnt = 0\n",
    "for i in range(n+1):\n",
    "    for x in range(i):\n",
    "        cnt += 1\n",
    "        n_int.append(i)\n",
    "        if cnt == n:\n",
    "            break\n",
    "    if cnt == n:\n",
    "        break\n",
    "print(*n_int)    \n",
    "#     i += 1\n",
    "# print(i)"
   ]
  },
  {
   "cell_type": "code",
   "execution_count": 114,
   "id": "c6940095",
   "metadata": {},
   "outputs": [
    {
     "name": "stdout",
     "output_type": "stream",
     "text": [
      "333\n"
     ]
    }
   ],
   "source": [
    "n = int(input())\n",
    "count = 0\n",
    "curr = 1\n",
    "for i in range(n):\n",
    "    print(curr, end=' ')\n",
    "    count += 1\n",
    "    if count == curr:\n",
    "        curr += 1\n",
    "        count = 0"
   ]
  },
  {
   "cell_type": "markdown",
   "id": "a7668d69",
   "metadata": {},
   "source": [
    "Напишите программу, которая считывает список чисел lst из первой строки и число x из второй строки, которая выводит все позиции, на которых встречается число x в переданном списке lst.\n",
    "\n",
    "Позиции нумеруются с нуля, если число x не встречается в списке, вывести строку \"Отсутствует\" (без кавычек, с большой буквы).\n",
    "\n",
    "Позиции должны быть выведены в одну строку, по возрастанию абсолютного значения."
   ]
  },
  {
   "cell_type": "code",
   "execution_count": 166,
   "id": "e3cac18f",
   "metadata": {},
   "outputs": [
    {
     "name": "stdout",
     "output_type": "stream",
     "text": [
      "5 8 2 7 8 8 2 4\n",
      "3\n",
      "Отсутствует\n"
     ]
    }
   ],
   "source": [
    "n = [int(i) for i in input().split()]\n",
    "x = int(input())\n",
    "cnt = 0\n",
    "for i in range(len(n)):\n",
    "    if n[i] == x:\n",
    "        print(i, end=' ')\n",
    "        cnt += 1\n",
    "if cnt == 0:\n",
    "        print('Отсутствует')"
   ]
  },
  {
   "cell_type": "code",
   "execution_count": null,
   "id": "3433622b",
   "metadata": {},
   "outputs": [],
   "source": []
  },
  {
   "cell_type": "code",
   "execution_count": 167,
   "id": "e087dc1b",
   "metadata": {},
   "outputs": [
    {
     "name": "stdout",
     "output_type": "stream",
     "text": [
      "5\n",
      "1\t2\t3\t4\t5\n",
      "16\t17\t18\t19\t6\n",
      "15\t24\t25\t20\t7\n",
      "14\t23\t22\t21\t8\n",
      "13\t12\t11\t10\t9\n"
     ]
    }
   ],
   "source": [
    "n = int(input())\n",
    "l = [[0 for j in range(n)] for i in range(n)]\n",
    "N = n*n\n",
    "i = 0\n",
    "j = 0\n",
    "k = 1\n",
    "while k <= N:\n",
    "    l[i][j] = k\n",
    "    if i <= j + 1 and i + j < n - 1: \n",
    "        j += 1\n",
    "    elif i < j and i + j >= n-1: \n",
    "        i += 1\n",
    "    elif i >= j and i + j > n-1: \n",
    "        j -= 1\n",
    "    else: \n",
    "        i -= 1\n",
    "    k += 1\n",
    " \n",
    " \n",
    "for i in l:\n",
    "    print(*i,sep='\\t')"
   ]
  },
  {
   "cell_type": "code",
   "execution_count": 168,
   "id": "c85d2779",
   "metadata": {},
   "outputs": [
    {
     "data": {
      "text/plain": [
       "[[1, 2, 3, 4, 5],\n",
       " [16, 17, 18, 19, 6],\n",
       " [15, 24, 25, 20, 7],\n",
       " [14, 23, 22, 21, 8],\n",
       " [13, 12, 11, 10, 9]]"
      ]
     },
     "execution_count": 168,
     "metadata": {},
     "output_type": "execute_result"
    }
   ],
   "source": [
    "c = []\n",
    "while True:\n",
    "    a = [i for i in input().split()]\n",
    "    if a == ['end']:\n",
    "        break\n",
    "    c.append(a)\n",
    "n, m = len(c), len(c[0])\n",
    "for i in range(n):\n",
    "    for j in range(m):\n",
    "        x = int(c[i][j-1]) + int(c[i][j+1-m]) + int(c[i-1][j]) + int(c[i+1-n][j])\n",
    "        print(x, end=' ')\n",
    "    print()"
   ]
  },
  {
   "cell_type": "code",
   "execution_count": 169,
   "id": "38479cfd",
   "metadata": {},
   "outputs": [],
   "source": [
    "def f(n):\n",
    "    return n * 10 + 5"
   ]
  },
  {
   "cell_type": "code",
   "execution_count": 170,
   "id": "5ab7db57",
   "metadata": {},
   "outputs": [
    {
     "data": {
      "text/plain": [
       "10555"
      ]
     },
     "execution_count": 170,
     "metadata": {},
     "output_type": "execute_result"
    }
   ],
   "source": [
    "f(f(f(10)))"
   ]
  },
  {
   "cell_type": "markdown",
   "id": "885a0eee",
   "metadata": {},
   "source": [
    "Напишите функцию modify_list(l), которая принимает на вход список целых чисел, удаляет из него все нечётные значения, а чётные нацело делит на два. Функция не должна ничего возвращать, требуется только изменение переданного списка, "
   ]
  },
  {
   "cell_type": "code",
   "execution_count": 225,
   "id": "496a9157",
   "metadata": {},
   "outputs": [
    {
     "name": "stdout",
     "output_type": "stream",
     "text": [
      "None\n",
      "[1, 2, 3]\n"
     ]
    }
   ],
   "source": [
    "def modify_list(l):\n",
    "    for i in range(len(l)-1, -1, -1):\n",
    "        if l[i] % 2 == 0:\n",
    "            l[i] = int(l[i] / 2)\n",
    "        else:\n",
    "            del(l[i])\n",
    "\n",
    "lst = [1, 2, 3, 4, 5, 6]\n",
    "print(modify_list(lst))\n",
    "print(lst) "
   ]
  },
  {
   "cell_type": "code",
   "execution_count": 210,
   "id": "50da4438",
   "metadata": {},
   "outputs": [
    {
     "name": "stdout",
     "output_type": "stream",
     "text": [
      "6\n"
     ]
    }
   ],
   "source": [
    "lst = [1, 2, 3, 4, 5, 6]\n",
    "print(len(lst))"
   ]
  },
  {
   "cell_type": "code",
   "execution_count": 216,
   "id": "c17c9117",
   "metadata": {},
   "outputs": [
    {
     "name": "stdout",
     "output_type": "stream",
     "text": [
      "6\n",
      "5\n",
      "4\n",
      "3\n",
      "2\n",
      "1\n",
      "\n",
      "6\n",
      "5\n",
      "4\n",
      "3\n",
      "2\n",
      "1\n"
     ]
    }
   ],
   "source": [
    "for el in reversed(lst):\n",
    "    print(el)\n",
    "\n",
    "    print()\n",
    "for i in range(len(lst)-1, -1, -1):\n",
    "    print(lst[i])"
   ]
  },
  {
   "cell_type": "code",
   "execution_count": 227,
   "id": "4b0314c5",
   "metadata": {},
   "outputs": [],
   "source": [
    "def f(x):\n",
    "    if x > 2:\n",
    "        return (x - 2)**2 + 1\n",
    "    elif x <= -2:\n",
    "        return 1 - (x + 2)**2\n",
    "    else:\n",
    "        return -(x / 2)"
   ]
  },
  {
   "cell_type": "code",
   "execution_count": 229,
   "id": "b4bfa869",
   "metadata": {},
   "outputs": [
    {
     "data": {
      "text/plain": [
       "-5.25"
      ]
     },
     "execution_count": 229,
     "metadata": {},
     "output_type": "execute_result"
    }
   ],
   "source": [
    "f(-4.5)"
   ]
  },
  {
   "cell_type": "markdown",
   "id": "8acc3ffb",
   "metadata": {},
   "source": [
    "Напишите функцию update_dictionary(d, key, value), которая принимает на вход словарь d и два числа: key и value.\n",
    "\n",
    "Если ключ key есть в словаре d, то добавьте значение value в список, который хранится по этому ключу.\n",
    "Если ключа key нет в словаре, то нужно добавить значение в список по ключу 2 * key. Если и ключа 2 * key нет, то нужно добавить ключ 2 * key в словарь и сопоставить ему список из переданного элемента [value].\n",
    "\n",
    "Требуется реализовать только эту функцию, кода вне её не должно быть.\n",
    "Функция не должна вызывать внутри себя функции input и print."
   ]
  },
  {
   "cell_type": "code",
   "execution_count": 346,
   "id": "06356a07",
   "metadata": {},
   "outputs": [],
   "source": [
    "def update_dictionary(d, key, value):\n",
    "    if key in d: #Если ключ key есть в словаре d, \n",
    "        d[key].append(value) #то добавьте значение value в список, который хранится по этому ключу.\n",
    "    elif (key * 2) in d: #Если ключа key нет в словаре, то нужно добавить значение в список по ключу 2 * key\n",
    "        d[key*2].append(value)\n",
    "    else:\n",
    "        d[key*2] = [value]"
   ]
  },
  {
   "cell_type": "code",
   "execution_count": 347,
   "id": "50617c88",
   "metadata": {},
   "outputs": [
    {
     "name": "stdout",
     "output_type": "stream",
     "text": [
      "None\n",
      "{0: [-5]}\n",
      "{0: [-5], 2: [-1]}\n",
      "{0: [-5], 2: [-1, -2]}\n",
      "{0: [-5], 2: [-1, -2, -3]}\n",
      "{0: [-5], 2: [-1, -2, -3], 6: [-3]}\n",
      "{0: [-5], 2: [-1, -2, -3], 6: [-3, -5]}\n",
      "{0: [-5], 2: [-1, -2, -3, -1], 6: [-3, -5]}\n",
      "{0: [-5, -1], 2: [-1, -2, -3, -1], 6: [-3, -5]}\n",
      "{0: [-5, -1], 2: [-1, -2, -3, -1, -4], 6: [-3, -5]}\n",
      "{0: [-5, -1], 2: [-1, -2, -3, -1, -4], 6: [-3, -5, -1]}\n",
      "{0: [-5, -1], 2: [-1, -2, -3, -1, -4], 6: [-3, -5, -1], 8: [-1]}\n",
      "{0: [-5, -1], 2: [-1, -2, -3, -1, -4], 6: [-3, -5, -1], 8: [-1], -2: [-1]}\n"
     ]
    }
   ],
   "source": [
    "d = {}\n",
    "print(update_dictionary(d, 0, -5))  # None\n",
    "print(d)                            # {2: [-1]}\n",
    "update_dictionary(d, 1, -1)\n",
    "print(d) \n",
    "update_dictionary(d, 2, -2)\n",
    "print(d)                            # {2: [-1, -2]}\n",
    "update_dictionary(d, 2, -3)\n",
    "print(d)                            # {2: [-1, -2, -3]}\n",
    "update_dictionary(d, 3, -3)\n",
    "print(d) \n",
    "update_dictionary(d, 3, -5)\n",
    "print(d) \n",
    "update_dictionary(d, 1, -1)\n",
    "print(d) \n",
    "update_dictionary(d, 0, -1)\n",
    "print(d) \n",
    "update_dictionary(d, 2, -4)\n",
    "print(d)\n",
    "update_dictionary(d, 3, -1)\n",
    "print(d) \n",
    "update_dictionary(d, 4, -1)\n",
    "print(d) \n",
    "update_dictionary(d, -1, -1)\n",
    "print(d) "
   ]
  },
  {
   "cell_type": "markdown",
   "id": "06a31cdd",
   "metadata": {},
   "source": [
    "Когда Антон прочитал «Войну и мир», ему стало интересно, сколько слов и в каком количестве используется в этой книге.\n",
    "\n",
    "Помогите Антону написать упрощённую версию такой программы, которая сможет подсчитать слова, разделённые пробелом и вывести получившуюся статистику.\n",
    "\n",
    "Программа должна считывать одну строку со стандартного ввода и выводить для каждого уникального слова в этой строке число его повторений (без учёта регистра) в формате \"слово количество\" (см. пример вывода).\n",
    "Порядок вывода слов может быть произвольным, каждое уникальное слово﻿ должно выводиться только один раз."
   ]
  },
  {
   "cell_type": "code",
   "execution_count": 372,
   "id": "cdc0321f",
   "metadata": {},
   "outputs": [
    {
     "name": "stdout",
     "output_type": "stream",
     "text": [
      "a aa abC aa ac abc bcd a A\n",
      "aa 2\n",
      "a 3\n",
      "abc 2\n",
      "bcd 1\n",
      "ac 1\n"
     ]
    }
   ],
   "source": [
    "#n = 'a aa abC aa ac abc bcd a A'\n",
    "\n",
    "n = input().lower().split()\n",
    "n_set = set(n)\n",
    "for el in n_set:\n",
    "    print(el, n.count(el))"
   ]
  },
  {
   "cell_type": "markdown",
   "id": "f51943dd",
   "metadata": {},
   "source": [
    "Напишите программу, которая считывает строку с числом n, которое задаёт количество чисел, которые нужно считать. Далее считывает n строк с числами Xi, по одному числу в каждой строке. Итого будет n + 1 строк.\n",
    "При считывании числа Xi программа должна на отдельной строке вывести значение f(Xi). Функция f(x) уже реализована и доступна для вызова.\n",
    "Функция вычисляется достаточно долго и зависит только от переданного аргумента xx. Для того, чтобы уложиться в ограничение по времени, нужно избежать повторного вычисления значений."
   ]
  },
  {
   "cell_type": "code",
   "execution_count": 407,
   "id": "77d73ef4",
   "metadata": {},
   "outputs": [
    {
     "name": "stdout",
     "output_type": "stream",
     "text": [
      "1\n",
      "4\n",
      "9\n",
      "4\n",
      "{1: 1, 2: 4, 3: 9}\n"
     ]
    }
   ],
   "source": [
    "d = {0: 1, 1: 2, 2: 3, 3: 2}\n",
    "d = {}\n",
    "n_new = {}\n",
    "for i in range(int(input())):\n",
    "    d[i] = int(input())\n",
    "n_set = set([value for value in d.values()])\n",
    "\n",
    "for el in n_set:\n",
    "    n_new[el] = f(el)\n",
    "\n",
    "for key, value in d.items():\n",
    "    for x, y in n_new.items():\n",
    "        if x == value:\n",
    "            d[key] = y\n",
    "print(*d.values(), sep='\\n')"
   ]
  },
  {
   "cell_type": "code",
   "execution_count": 408,
   "id": "dab61603",
   "metadata": {},
   "outputs": [
    {
     "name": "stdout",
     "output_type": "stream",
     "text": [
      "4\n",
      "1\n",
      "2\n",
      "3\n",
      "2\n",
      "1\n",
      "4\n",
      "9\n",
      "4\n"
     ]
    }
   ],
   "source": [
    "a=[int(input()) for i in range(int(input()))]\n",
    "b={x:f(x) for x in set(a)}\n",
    "for i in a:\n",
    "    print(b[i])"
   ]
  },
  {
   "cell_type": "markdown",
   "id": "741f26c6",
   "metadata": {},
   "source": [
    "Напишите программу, которая считывает из файла строку, соответствующую тексту, сжатому с помощью кодирования повторов, и производит обратную операцию, получая исходный текст."
   ]
  },
  {
   "cell_type": "code",
   "execution_count": 4,
   "id": "f7f169f8",
   "metadata": {},
   "outputs": [],
   "source": [
    "n = 'a3b4c2e10b1'"
   ]
  },
  {
   "cell_type": "code",
   "execution_count": 45,
   "id": "e888306b",
   "metadata": {},
   "outputs": [],
   "source": [
    "with open ('dataset_3363_2.txt') as file_in, open(\"out.txt\", 'w') as file_out:\n",
    "    for line in file_in:\n",
    "        d = {}\n",
    "        i = 0\n",
    "        for el in line:\n",
    "            if el.isalpha() == True:\n",
    "                d[i] = el\n",
    "                i += 1\n",
    "            else:\n",
    "                d[i-1] += el\n",
    "        expanded_text = ''\n",
    "        for value in d.values():\n",
    "            expanded_text += value[0] * int(value[1:])\n",
    "    file_out.write(expanded_text)"
   ]
  },
  {
   "cell_type": "code",
   "execution_count": 41,
   "id": "abc8c7db",
   "metadata": {},
   "outputs": [
    {
     "data": {
      "text/plain": [
       "'aaabbbbcceeeeeeeeeeb'"
      ]
     },
     "execution_count": 41,
     "metadata": {},
     "output_type": "execute_result"
    }
   ],
   "source": [
    "expanded_text"
   ]
  },
  {
   "cell_type": "markdown",
   "id": "bbef3a49",
   "metadata": {},
   "source": [
    "Напишите программу, которая считывает текст из файла (в файле может быть больше одной строки) и выводит самое частое слово в этом тексте и через пробел то, сколько раз оно встретилось. Если таких слов несколько, вывести лексикографически первое (можно использовать оператор < для строк).\n",
    "\n",
    "В качестве ответа укажите вывод программы, а не саму программу.\n",
    "\n",
    "Слова, написанные в разных регистрах, считаются одинаковыми."
   ]
  },
  {
   "cell_type": "code",
   "execution_count": 101,
   "id": "42fe917c",
   "metadata": {},
   "outputs": [
    {
     "name": "stdout",
     "output_type": "stream",
     "text": [
      "cczya 7\n"
     ]
    }
   ],
   "source": [
    "n = ''\n",
    "with open ('dataset_3363_3.txt') as file_in:\n",
    "    for line in file_in:\n",
    "        n += line\n",
    "n = n.lower()\n",
    "n_str = n.split(' ')\n",
    "n_set = set(n_str)\n",
    "d = {}\n",
    "for el in n_set:\n",
    "    d[el] = n_str.count(el)\n",
    "max_str = [key for key, value in d.items() if max(d.values()) == value]\n",
    "max_str.sort()\n",
    "print(max_str[0], n_str.count(max_str[0]))"
   ]
  },
  {
   "cell_type": "code",
   "execution_count": 102,
   "id": "2a2cbacf",
   "metadata": {},
   "outputs": [
    {
     "name": "stdout",
     "output_type": "stream",
     "text": [
      "cczya 7\n"
     ]
    }
   ],
   "source": [
    "with open('dataset_3363_3.txt') as f:\n",
    "    text = f.read().lower().split()\n",
    "popular_word = max(set(text), key=text.count)\n",
    "print(popular_word, text.count(popular_word))"
   ]
  },
  {
   "cell_type": "markdown",
   "id": "36cdc742",
   "metadata": {},
   "source": [
    "Имеется файл с данными по успеваемости абитуриентов. Он представляет из себя набор строк, где в каждой строке записана следующая информация:\n",
    "\n",
    "Фамилия;Оценка_по_математике;Оценка_по_физике;Оценка_по_русскому_языку\n",
    "\n",
    "Поля внутри строки разделены точкой с запятой, оценки — целые числа.\n",
    "\n",
    "Напишите программу, которая считывает исходный файл с подобной структурой и для каждого абитуриента записывает его среднюю оценку по трём предметам на отдельной строке, соответствующей этому абитуриенту, в файл с ответом.\n",
    "\n",
    "Также вычислите средние баллы по математике, физике и русскому языку по всем абитуриентам и добавьте полученные значения, разделённые пробелом, последней строкой в файл с ответом.\n",
    "\n",
    "В качестве ответа на задание прикрепите полученный файл со средними оценками по каждому ученику и одной строкой со средними оценками по трём предметам.\n",
    "\n",
    "Примечание. Для разбиения строки на части по символу ';' можно использовать метод split следующим образом:\n",
    "\n",
    "print('First;Second-1 Second-2;Third'.split(';'))\n",
    "\n",
    " ['First', 'Second-1 Second-2', 'Third']"
   ]
  },
  {
   "cell_type": "code",
   "execution_count": 165,
   "id": "a6c56c95",
   "metadata": {},
   "outputs": [
    {
     "name": "stdout",
     "output_type": "stream",
     "text": [
      "47.0\n",
      "37.666666666666664\n",
      "67.0\n",
      "57.666666666666664\n",
      "84.0\n",
      "53.0\n",
      "63.666666666666664\n",
      "58.0\n",
      "75.66666666666667\n",
      "89.0\n",
      "85.66666666666667\n",
      "57.666666666666664\n",
      "77.0\n",
      "48.333333333333336\n",
      "56.666666666666664\n",
      "45.333333333333336\n",
      "50.333333333333336\n",
      "66.66666666666667\n",
      "66.66666666666667\n",
      "43.666666666666664\n",
      "63.333333333333336\n",
      "88.0\n",
      "54.666666666666664\n",
      "41.333333333333336\n",
      "49.333333333333336\n",
      "69.66666666666667\n",
      "79.0\n",
      "44.333333333333336\n",
      "56.666666666666664\n",
      "65.33333333333333\n",
      "76.33333333333333\n",
      "47.666666666666664\n",
      "61.0\n",
      "38.333333333333336\n",
      "41.0\n",
      "63.0\n",
      "65.66666666666667\n",
      "81.33333333333333\n",
      "83.0\n",
      "69.66666666666667\n",
      "71.0\n",
      "70.33333333333333\n",
      "55.0\n",
      "67.33333333333333\n",
      "52.333333333333336\n",
      "40.666666666666664\n",
      "85.33333333333333\n",
      "37.333333333333336\n",
      "43.666666666666664\n",
      "58.0\n",
      "59.333333333333336\n",
      "42.333333333333336\n",
      "68.0\n",
      "75.33333333333333\n",
      "77.66666666666667\n",
      "53.333333333333336\n",
      "92.0\n",
      "52.333333333333336\n",
      "63.666666666666664\n",
      "75.66666666666667\n",
      "64.0\n",
      "32.0\n",
      "54.666666666666664\n",
      "73.66666666666667\n",
      "61.333333333333336\n",
      "75.0\n",
      "82.33333333333333\n",
      "72.0\n",
      "48.666666666666664\n",
      "57.0\n",
      "58.333333333333336\n",
      "63.333333333333336\n",
      "65.66666666666667\n",
      "50.666666666666664\n",
      "59.333333333333336\n",
      "69.0\n",
      "72.66666666666667\n",
      "46.0\n",
      "60.333333333333336\n",
      "69.33333333333333\n",
      "55.0\n",
      "60.666666666666664\n",
      "63.666666666666664\n",
      "58.666666666666664\n",
      "50.333333333333336\n",
      "44.666666666666664\n",
      "53.0\n",
      "51.666666666666664\n",
      "76.33333333333333\n",
      "63.666666666666664\n",
      "50.666666666666664\n",
      "59.666666666666664\n",
      "61.666666666666664\n",
      "57.666666666666664\n",
      "78.66666666666667\n",
      "57.666666666666664\n",
      "52.666666666666664\n",
      "60.666666666666664\n",
      "55.0\n",
      "46.333333333333336\n",
      "37.0\n",
      "61.0\n",
      "58.666666666666664\n",
      "77.66666666666667\n",
      "71.0\n",
      "66.0\n",
      "60.666666666666664\n",
      "45.0\n",
      "66.0\n",
      "50.666666666666664\n",
      "76.33333333333333\n",
      "76.66666666666667\n",
      "43.0\n",
      "72.33333333333333\n",
      "69.66666666666667\n",
      "67.0\n",
      "40.333333333333336\n",
      "80.33333333333333\n",
      "81.33333333333333\n",
      "59.666666666666664\n",
      "67.0\n",
      "77.33333333333333\n",
      "72.33333333333333\n",
      "68.0\n",
      "45.0\n",
      "75.66666666666667\n",
      "62.333333333333336\n",
      "68.66666666666667\n",
      "76.0\n",
      "73.33333333333333\n",
      "77.0\n",
      "84.33333333333333\n",
      "56.0\n",
      "69.0\n",
      "49.0\n",
      "56.0\n",
      "75.0\n",
      "66.66666666666667\n",
      "59.333333333333336\n",
      "74.66666666666667\n",
      "53.0\n",
      "57.0\n",
      "68.66666666666667\n",
      "59.0\n",
      "40.666666666666664\n",
      "35.333333333333336\n",
      "85.0\n",
      "76.0\n",
      "47.0\n",
      "56.333333333333336\n",
      "68.66666666666667\n",
      "69.33333333333333\n",
      "71.0\n",
      "83.0\n",
      "58.666666666666664\n",
      "66.66666666666667\n",
      "48.0\n",
      "69.0\n",
      "62.333333333333336\n",
      "73.33333333333333\n",
      "65.33333333333333\n",
      "54.666666666666664\n",
      "62.03086419753087 61.660493827160494 63.06172839506173\n"
     ]
    }
   ],
   "source": [
    "text = []\n",
    "with open ('dataset_3363_4.txt', encoding='utf8') as f:\n",
    "    for line in f.readlines():\n",
    "        text += [line.replace('\\n', '').split(';')]\n",
    "avg_mat, avg_fiz, avg_rus, cnt = 0, 0, 0, 0\n",
    "for row in text:\n",
    "    avg_mat += int(row[1]) \n",
    "    avg_fiz += int(row[2]) \n",
    "    avg_rus += int(row[3])\n",
    "    print((int(row[1]) + int(row[2]) + int(row[3])) / 3)\n",
    "    cnt += 1\n",
    "print(avg_mat / cnt, avg_fiz / cnt, avg_rus / cnt)"
   ]
  },
  {
   "cell_type": "markdown",
   "id": "ed624b78",
   "metadata": {},
   "source": [
    "Напишите программу, которая подключает модуль math и, используя значение числа pi из этого модуля, находит для переданного ей на стандартный ввод радиуса круга периметр этого круга и выводит его на стандартный вывод."
   ]
  },
  {
   "cell_type": "code",
   "execution_count": 169,
   "id": "b7285c52",
   "metadata": {},
   "outputs": [
    {
     "name": "stdout",
     "output_type": "stream",
     "text": [
      "10\n",
      "62.83185307179586\n"
     ]
    }
   ],
   "source": [
    "import math\n",
    "r = float(input())\n",
    "print(math.pi*2*r)"
   ]
  },
  {
   "cell_type": "markdown",
   "id": "de512c40",
   "metadata": {},
   "source": [
    "Напишите программу, которая запускается из консоли и печатает значения всех переданных аргументов на экран (имя скрипта выводить не нужно). Не изменяйте порядок аргументов при выводе.\n",
    "\n",
    "Для доступа к аргументам командной строки программы подключите модуль sys и используйте переменную argv из этого модуля.\n",
    "\n",
    "Пример работы программы:\n",
    "\n",
    "> python3 my_solution.py arg1 arg2\n",
    "\n",
    "arg1 arg2"
   ]
  },
  {
   "cell_type": "markdown",
   "id": "6821e188",
   "metadata": {},
   "source": [
    "Скачайте файл. В нём указан адрес другого файла, который нужно скачать с использованием модуля requests и посчитать число строк в нём.\n",
    "\n",
    "Используйте функцию get для получения файла (имеет смысл вызвать метод strip к передаваемому параметру, чтобы убрать пробельные символы по краям).\n",
    "\n",
    "После получения файла вы можете проверить результат, обратившись к полю text. Если результат работы скрипта не принимается, проверьте поле url на правильность. Для подсчёта количества строк разбейте текст с помощью метода splitlines.\n",
    "\n",
    "В поле ответа введите одно число или отправьте файл, содержащий одно число."
   ]
  },
  {
   "cell_type": "code",
   "execution_count": 170,
   "id": "30a6a082",
   "metadata": {},
   "outputs": [],
   "source": [
    "import requests"
   ]
  },
  {
   "cell_type": "code",
   "execution_count": 190,
   "id": "c0ebfeab",
   "metadata": {},
   "outputs": [
    {
     "name": "stdout",
     "output_type": "stream",
     "text": [
      "164\n"
     ]
    }
   ],
   "source": [
    "r = requests.get('https://stepic.org/media/attachments/course67/3.6.2/899.txt')\n",
    "n = r.text.splitlines()\n",
    "print(len(n))"
   ]
  },
  {
   "cell_type": "markdown",
   "id": "1be66553",
   "metadata": {},
   "source": [
    "Имеется набор файлов, каждый из которых, кроме последнего, содержит имя следующего файла.\n",
    "Первое слово в тексте последнего файла: \"We\".\n",
    "\n",
    "Скачайте предложенный файл. В нём содержится ссылка на первый файл из этого набора.\n",
    "\n",
    "Все файлы располагаются в каталоге по адресу:\n",
    "https://stepic.org/media/attachments/course67/3.6.3/\n",
    "\n",
    "Загрузите содержимое ﻿последнего файла из набора, как ответ на это задание."
   ]
  },
  {
   "cell_type": "code",
   "execution_count": null,
   "id": "c9b2a79d",
   "metadata": {},
   "outputs": [],
   "source": [
    "import requests"
   ]
  },
  {
   "cell_type": "code",
   "execution_count": 277,
   "id": "767bfba8",
   "metadata": {},
   "outputs": [
    {
     "name": "stdout",
     "output_type": "stream",
     "text": [
      "We are the champions, my friends,\n",
      "And we'll keep on fighting 'til the end.\n",
      "We are the champions.\n",
      "We are the champions.\n",
      "No time for losers\n",
      "'Cause we are the champions of the world.\n"
     ]
    }
   ],
   "source": [
    "r = requests.get('https://stepic.org/media/attachments/course67/3.6.3/699991.txt')\n",
    "url = 'https://stepic.org/media/attachments/course67/3.6.3/'\n",
    "while r.text[:2] != 'We':\n",
    "    r = requests.get(url+r.text)\n",
    "print(r.text)\n",
    "with open(\"out_3_6_2.txt\", 'w') as file_out:\n",
    "    file_out.write(r.text)"
   ]
  },
  {
   "cell_type": "markdown",
   "id": "27d8f9de",
   "metadata": {},
   "source": [
    "Напишите программу, которая принимает на стандартный вход список игр футбольных команд с результатом матча и выводит на стандартный вывод сводную таблицу результатов всех матчей.\n",
    "\n",
    "За победу команде начисляется 3 очка, за поражение — 0, за ничью — 1.\n",
    "\n",
    "Формат ввода следующий:\n",
    "В первой строке указано целое число nn — количество завершенных игр.\n",
    "После этого идет nn строк, в которых записаны результаты игры в следующем формате:\n",
    "Первая_команда;Забито_первой_командой;Вторая_команда;Забито_второй_командой\n",
    "\n",
    "Вывод программы необходимо оформить следующим образом:\n",
    "Команда:Всего_игр Побед Ничьих Поражений Всего_очков\n",
    "\n",
    "Конкретный пример ввода-вывода приведён ниже.\n",
    "\n",
    "Порядок вывода команд произвольный."
   ]
  },
  {
   "cell_type": "markdown",
   "id": "c9799b7d",
   "metadata": {},
   "source": [
    "Спартак;9;Зенит;10\n",
    "Локомотив;12;Зенит;3\n",
    "Спартак;8;Локомотив;15"
   ]
  },
  {
   "cell_type": "code",
   "execution_count": 278,
   "id": "782c4717",
   "metadata": {},
   "outputs": [
    {
     "name": "stdout",
     "output_type": "stream",
     "text": [
      "3\n"
     ]
    }
   ],
   "source": []
  },
  {
   "cell_type": "code",
   "execution_count": 295,
   "id": "a53f11df",
   "metadata": {},
   "outputs": [
    {
     "name": "stdout",
     "output_type": "stream",
     "text": [
      "Спартак;9;Зенит;10\n",
      "Локомотив;12;Зенит;3\n",
      "Спартак;8;Локомотив;15\n"
     ]
    }
   ],
   "source": [
    "n = int(input())\n",
    "d = {}\n",
    "for i in range(n):\n",
    "    com1, cnt1, com2, cnt2 = input().split(';')\n",
    "    if com1 not in d.keys():\n",
    "        d[com1] = [1, 0, 0, 0, 0] #Всего_игр Побед Ничьих Поражений Всего_очков\n",
    "    else:\n",
    "        d[com1][0] += 1\n",
    "\n",
    "    if com2 not in d.keys():\n",
    "        d[com2] = [1, 0, 0, 0, 0]\n",
    "    else:\n",
    "        d[com2][0] += 1\n",
    "    \n",
    "    if int(cnt1) > int(cnt2):\n",
    "        d[com1][1] += 1\n",
    "        d[com1][4] += 3\n",
    "        d[com2][3] += 1\n",
    "    elif int(cnt1) < int(cnt2):\n",
    "        d[com2][1] += 1\n",
    "        d[com2][4] += 3\n",
    "        d[com1][3] += 1\n",
    "    else:\n",
    "        d[com1][2] += 1\n",
    "        d[com2][2] += 1\n",
    "        d[com1][4] += 1\n",
    "        d[com2][4] += 1\n",
    "\n",
    "for key, value in d.items():\n",
    "    print(key + ':', end='')\n",
    "    print(*value)"
   ]
  },
  {
   "cell_type": "code",
   "execution_count": 298,
   "id": "429f3484",
   "metadata": {},
   "outputs": [
    {
     "name": "stdout",
     "output_type": "stream",
     "text": [
      "Спартак:2 0 0 2 0\n",
      "Зенит:2 1 0 1 3\n",
      "Локомотив:2 2 0 0 6\n"
     ]
    }
   ],
   "source": [
    "for key, value in d.items():\n",
    "    print(key + ':', end='')\n",
    "    print(*value)"
   ]
  },
  {
   "cell_type": "markdown",
   "id": "c94fb98c",
   "metadata": {},
   "source": [
    "символ a исходного сообщения заменяется на символ * в шифре, b заменяется на d, c — на % и d — на #"
   ]
  },
  {
   "cell_type": "code",
   "execution_count": 346,
   "id": "23aa7221",
   "metadata": {},
   "outputs": [
    {
     "name": "stdout",
     "output_type": "stream",
     "text": [
      "abcd\n",
      "*d%#\n",
      "abacabadaba\n",
      "#*%*d*%\n",
      "*d*%*d*#*d*\n",
      "dacabac\n"
     ]
    }
   ],
   "source": [
    "key = [row for row in input()]\n",
    "value = [row for row in input()]\n",
    "\n",
    "d_in = dict(zip(key, value))\n",
    "d_out = dict(zip(value, key))\n",
    "\n",
    "n1 = input()\n",
    "n2 = input()\n",
    "\n",
    "print(n1.translate(n1.maketrans(d_in)))\n",
    "print(n2.translate(n2.maketrans(d_out)))"
   ]
  },
  {
   "cell_type": "code",
   "execution_count": 347,
   "id": "c7feaa61",
   "metadata": {},
   "outputs": [
    {
     "name": "stdout",
     "output_type": "stream",
     "text": [
      "abcd\n",
      "*d%#\n",
      "abacabadaba\n",
      "#*%*d*%\n",
      "*d*%*d*#*d*\n",
      "dacabac\n"
     ]
    }
   ],
   "source": [
    "a, b, c, d= input(), input(), input(), input()\n",
    "print(''.join(b[a.index(i)] for i in c))\n",
    "print(''.join(a[b.index(i)] for i in d))"
   ]
  },
  {
   "cell_type": "markdown",
   "id": "160b2cc0",
   "metadata": {},
   "source": [
    "Простейшая система проверки орфографии может быть основана на использовании списка известных слов.\n",
    "Если введённое слово не найдено в этом списке, оно помечается как \"ошибка\".\n",
    "\n",
    "Попробуем написать подобную систему.\n",
    "\n",
    "На вход программе первой строкой передаётся количество dd известных нам слов, после чего на dd строках указываются эти слова. Затем передаётся количество ll строк текста для проверки, после чего ll строк текста."
   ]
  },
  {
   "cell_type": "code",
   "execution_count": 352,
   "id": "fb0f4f9c",
   "metadata": {},
   "outputs": [
    {
     "name": "stdout",
     "output_type": "stream",
     "text": [
      "champions\n",
      "we\n",
      "are\n",
      "Stepik\n"
     ]
    }
   ],
   "source": [
    "n1 = 4 #int(input())\n",
    "\n",
    "n_str = [input().lower() for i in range(n1)]"
   ]
  },
  {
   "cell_type": "code",
   "execution_count": 375,
   "id": "971e984d",
   "metadata": {},
   "outputs": [
    {
     "name": "stdout",
     "output_type": "stream",
     "text": [
      "We are the champignons\n",
      "We Are The Champions\n",
      "Stepic\n",
      "the\n",
      "stepic\n",
      "champignons\n"
     ]
    }
   ],
   "source": [
    "n1 = int(input())\n",
    "n_str = [input().lower() for i in range(n1)]\n",
    "d_out = []\n",
    "n2 = int(input())\n",
    "for i in range(n2):\n",
    "    d_in = input().lower().split()\n",
    "    for row in d_in:\n",
    "        if n_str.count(row) == 0:\n",
    "            d_out.append(row)\n",
    "print(*set(d_out), sep='\\n')"
   ]
  },
  {
   "cell_type": "markdown",
   "id": "09c47bb9",
   "metadata": {},
   "source": [
    "Группа биологов в институте биоинформатики завела себе черепашку.\n",
    "\n",
    "После дрессировки черепашка научилась понимать и запоминать указания биологов следующего вида:\n",
    "север 10\n",
    "запад 20\n",
    "юг 30\n",
    "восток 40\n",
    "где первое слово — это направление, в котором должна двигаться черепашка, а число после слова — это положительное расстояние в сантиметрах, которое должна пройти черепашка.\n",
    "\n",
    "Но команды даются быстро, а черепашка ползёт медленно, и программисты догадались, что можно написать программу, которая определит, куда в итоге биологи приведут черепашку. Для этого программисты просят вас написать программу, которая выведет точку, в которой окажется черепашка после всех команд. Для простоты они решили считать, что движение начинается в точке (0, 0), и движение на восток увеличивает первую координату, а на север — вторую.\n",
    "\n",
    "Программе подаётся на вход число команд nn, которые нужно выполнить черепашке, после чего nn строк с самими командами. Вывести нужно два числа в одну строку: первую и вторую координату конечной точки черепашки. Все координаты целочисленные."
   ]
  },
  {
   "cell_type": "code",
   "execution_count": 386,
   "id": "ea8e5b11",
   "metadata": {},
   "outputs": [
    {
     "name": "stdout",
     "output_type": "stream",
     "text": [
      "5\n",
      "север 10\n",
      "север 10\n",
      "запад 20\n",
      "юг 30\n",
      "восток 40\n",
      "10 -20\n"
     ]
    }
   ],
   "source": [
    "n = int(input())\n",
    "d = {\n",
    "    'север': 0,\n",
    "    'запад': 0,\n",
    "    'юг': 0,\n",
    "    'восток': 0\n",
    "}\n",
    "for i in range(n):\n",
    "    key, value = input().split()\n",
    "    d[key] += int(value)\n",
    "print(d['восток'] - d['запад'], d['север'] - d['юг'])"
   ]
  },
  {
   "cell_type": "markdown",
   "id": "3a772f7e",
   "metadata": {},
   "source": [
    "Дан файл с таблицей в формате TSV с информацией о росте школьников разных классов.\n",
    "\n",
    "Напишите программу, которая прочитает этот файл и подсчитает для каждого класса средний рост учащегося.\n",
    "\n",
    "Файл состоит из набора строк, каждая из которых представляет собой три поля:\n",
    "Класс Фамилия Рост\n",
    "\n",
    "Класс обозначается только числом. Буквенные модификаторы не используются. Номер класса может быть от 1 до 11 включительно. В фамилии нет пробелов, а в качестве роста используется натуральное число, но при подсчёте среднего требуется вычислить значение в виде вещественного числа.\n",
    "\n",
    "Выводить информацию о среднем росте следует в порядке возрастания номера класса (для классов с первого по одиннадцатый). Если про какой-то класс нет информации, необходимо вывести напротив него прочерк.\n",
    "\n",
    "В качестве ответа прикрепите файл с полученными данными о среднем росте."
   ]
  },
  {
   "cell_type": "code",
   "execution_count": 414,
   "id": "95b7aacb",
   "metadata": {},
   "outputs": [],
   "source": [
    "d = {i:0 for i in range(1, 12)}\n",
    "d_count = {i:0 for i in range(1, 12)}\n",
    "with open ('dataset_3380_5.txt', encoding='utf8') as f:\n",
    "    for line in f.readlines():\n",
    "        n = line.split('\\t')\n",
    "        d[int(n[0])] += int(n[2])\n",
    "        d_count[int(n[0])] += 1\n",
    "        \n",
    "with open ('3_7_5_out.txt', 'w') as f_out:\n",
    "    for key, value in d.items():\n",
    "        if value == 0:\n",
    "            row = str(key) + ' ' + '-'\n",
    "        else:\n",
    "            row = str(key) + ' ' + str(value / d_count[key])\n",
    "        f_out.writelines(row+'\\n')"
   ]
  },
  {
   "cell_type": "code",
   "execution_count": null,
   "id": "17165559",
   "metadata": {},
   "outputs": [],
   "source": []
  },
  {
   "cell_type": "code",
   "execution_count": null,
   "id": "e93b094b",
   "metadata": {},
   "outputs": [],
   "source": []
  }
 ],
 "metadata": {
  "kernelspec": {
   "display_name": "Python 3",
   "language": "python",
   "name": "python3"
  },
  "language_info": {
   "codemirror_mode": {
    "name": "ipython",
    "version": 3
   },
   "file_extension": ".py",
   "mimetype": "text/x-python",
   "name": "python",
   "nbconvert_exporter": "python",
   "pygments_lexer": "ipython3",
   "version": "3.8.8"
  },
  "toc": {
   "base_numbering": 1,
   "nav_menu": {},
   "number_sections": true,
   "sideBar": true,
   "skip_h1_title": false,
   "title_cell": "Table of Contents",
   "title_sidebar": "Contents",
   "toc_cell": true,
   "toc_position": {
    "height": "calc(100% - 180px)",
    "left": "10px",
    "top": "150px",
    "width": "165px"
   },
   "toc_section_display": true,
   "toc_window_display": true
  },
  "varInspector": {
   "cols": {
    "lenName": 16,
    "lenType": 16,
    "lenVar": 40
   },
   "kernels_config": {
    "python": {
     "delete_cmd_postfix": "",
     "delete_cmd_prefix": "del ",
     "library": "var_list.py",
     "varRefreshCmd": "print(var_dic_list())"
    },
    "r": {
     "delete_cmd_postfix": ") ",
     "delete_cmd_prefix": "rm(",
     "library": "var_list.r",
     "varRefreshCmd": "cat(var_dic_list()) "
    }
   },
   "types_to_exclude": [
    "module",
    "function",
    "builtin_function_or_method",
    "instance",
    "_Feature"
   ],
   "window_display": false
  }
 },
 "nbformat": 4,
 "nbformat_minor": 5
}
